{
 "cells": [
  {
   "cell_type": "code",
   "execution_count": 1,
   "metadata": {},
   "outputs": [],
   "source": [
    "import pandas as pd\n",
    "import os"
   ]
  },
  {
   "cell_type": "code",
   "execution_count": 8,
   "metadata": {},
   "outputs": [
    {
     "name": "stdout",
     "output_type": "stream",
     "text": [
      "<class 'pandas.core.frame.DataFrame'>\n",
      "RangeIndex: 131193 entries, 0 to 131192\n",
      "Data columns (total 3 columns):\n",
      " #   Column       Non-Null Count   Dtype \n",
      "---  ------       --------------   ----- \n",
      " 0   ARTIST_NAME  131193 non-null  object\n",
      " 1   SONG_NAME    131193 non-null  object\n",
      " 2   LYRICS       131193 non-null  object\n",
      "dtypes: object(3)\n",
      "memory usage: 3.0+ MB\n",
      "None\n",
      "  ARTIST_NAME           SONG_NAME  \\\n",
      "0   03 greedo          sweet lady   \n",
      "1   03 greedo      mafia business   \n",
      "2   03 greedo            paranoid   \n",
      "3   03 greedo          never bend   \n",
      "4   03 greedo  prayer for my lost   \n",
      "\n",
      "                                              LYRICS  \n",
      "0  its only one, 03, i'm from grape street, where...  \n",
      "1  you gonna make me put you in a suit and tie, s...  \n",
      "2  we could kill it, yeah, we could, we could, we...  \n",
      "3  yeah, you lil bitch ass niggas steady speaking...  \n",
      "4  x loaded up bro, never see me in the church, p...  \n",
      "<class 'pandas.core.frame.DataFrame'>\n",
      "RangeIndex: 131193 entries, 0 to 131192\n",
      "Data columns (total 3 columns):\n",
      " #   Column       Non-Null Count   Dtype \n",
      "---  ------       --------------   ----- \n",
      " 0   ARTIST_NAME  131193 non-null  object\n",
      " 1   SONG_NAME    131193 non-null  object\n",
      " 2   LYRICS       131193 non-null  object\n",
      "dtypes: object(3)\n",
      "memory usage: 3.0+ MB\n",
      "None\n",
      "  ARTIST_NAME           SONG_NAME  \\\n",
      "0   03 greedo          sweet lady   \n",
      "1   03 greedo      mafia business   \n",
      "2   03 greedo            paranoid   \n",
      "3   03 greedo          never bend   \n",
      "4   03 greedo  prayer for my lost   \n",
      "\n",
      "                                              LYRICS  \n",
      "0  its only one, 03, i'm from grape street, where...  \n",
      "1  you gonna make me put you in a suit and tie, s...  \n",
      "2  we could kill it, yeah, we could, we could, we...  \n",
      "3  yeah, you lil bitch ass niggas steady speaking...  \n",
      "4  x loaded up bro, never see me in the church, p...  \n",
      "Dataset combinado guardado en C:\\Users\\solan\\Downloads\\clasificador-letras\\data\\combined_dataset.csv\n"
     ]
    }
   ],
   "source": [
    "folder_path = r\"C:\\Users\\solan\\Downloads\\clasificador-letras\\data\\datos\"  #crear ruta de la carpeta con los archivos\n",
    "output_path =  r\"C:\\Users\\solan\\Downloads\\clasificador-letras\\data\" #crear ruta de salida\n",
    "dataframes = []  #crear lista vacía para guardar los DF\n",
    "\n",
    "#iterar por cada archivo de la carpeta\n",
    "for file in os.listdir(folder_path):\n",
    "    if file.endswith(\".csv\"):  #verificar si el archivo es un csv\n",
    "        file_path = os.path.join(folder_path, file)  #crear ruta del archivo\n",
    "        #Leer cada archivo y añadirlo a la lista de dataframes\n",
    "        df = pd.read_csv(file_path, on_bad_lines='skip', engine='python')\n",
    "        dataframes.append(df)\n",
    "\n",
    "#Combinar todos los dataframes en uno solo\n",
    "combined_df = pd.concat(dataframes, ignore_index=True)\n",
    "\n",
    "# Eliminar columnas de URLs\n",
    "combined_df = combined_df.drop(columns=['ARTIST_URL', 'SONG_URL'], errors='ignore')\n",
    "\n",
    "# Verificar el resultado\n",
    "print(combined_df.info())\n",
    "print(combined_df.head())\n",
    "\n",
    "\n",
    "#Guardar el DF combinado como CSV\n",
    "output_file = os.path.join(output_path, \"combined_dataset.csv\")\n",
    "combined_df.to_csv(output_file, index=False)\n",
    "\n",
    "#Mostrar info básica\n",
    "print(combined_df.info())\n",
    "print(combined_df.head())\n",
    "print(f\"Dataset combinado guardado en {output_file}\")"
   ]
  }
 ],
 "metadata": {
  "kernelspec": {
   "display_name": "Python 3",
   "language": "python",
   "name": "python3"
  },
  "language_info": {
   "codemirror_mode": {
    "name": "ipython",
    "version": 3
   },
   "file_extension": ".py",
   "mimetype": "text/x-python",
   "name": "python",
   "nbconvert_exporter": "python",
   "pygments_lexer": "ipython3",
   "version": "3.11.9"
  }
 },
 "nbformat": 4,
 "nbformat_minor": 2
}
